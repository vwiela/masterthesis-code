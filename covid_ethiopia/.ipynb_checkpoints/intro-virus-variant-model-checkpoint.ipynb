{
 "cells": [
  {
   "cell_type": "code",
   "execution_count": null,
   "metadata": {
    "scrolled": true
   },
   "outputs": [],
   "source": [
    "using SBMLToolkit, ModelingToolkit, DifferentialEquations, StochasticDiffEq\n",
    "using Plots\n",
    "using DataFrames\n",
    "using CSV\n",
    "using Random\n",
    "using Distributions\n",
    "using SBML\n",
    "using SymbolicUtils\n",
    "using StaticArrays\n",
    "using Catalyst\n",
    "using AdvancedMH\n",
    "using MCMCChains\n",
    "using MCMCChainsStorage\n",
    "using StatsPlots\n",
    "using ArviZ\n",
    "using HDF5\n",
    "\n",
    "# Lorenzos packages\n",
    "using Particles\n",
    "using ParticlesDE\n",
    "using StaticDistributions\n",
    "\n",
    "include(\"utilities.jl\");"
   ]
  },
  {
   "cell_type": "code",
   "execution_count": null,
   "metadata": {},
   "outputs": [],
   "source": [
    "# calculate optimal sizes in pixels for latex documents textwidth, to create nice plots\n",
    "dpi = 100 # use the Plots.jl default\n",
    "width_pts = 455.244\n",
    "inches_per_points = 1.0/72.27\n",
    "width_inches = width_pts*inches_per_points\n",
    "width_px = width_inches*dpi"
   ]
  },
  {
   "cell_type": "markdown",
   "metadata": {},
   "source": [
    "## Introduction\n",
    "In this notebook we covnert the SBML model to an ODE model, a jump process and an SDE model and investigate it visually. This notebook was used to create the figures used in Chapter 2.4 of the thesis. \n",
    "Afterwards, we focus on the SDE representation and introduce the observation function and create synthetic data. "
   ]
  },
  {
   "cell_type": "markdown",
   "metadata": {},
   "source": [
    "### Model import"
   ]
  },
  {
   "cell_type": "code",
   "execution_count": null,
   "metadata": {
    "scrolled": true
   },
   "outputs": [],
   "source": [
    "model_name = \"covid_ethiopia_seir_variant_model_transformed_real_updated2\"\n",
    "petab_folder = \"./petab_models/petab_virus_variant_model\"\n",
    "sbml_file = string(petab_folder, \"/\", model_name, \".sbml\")\n",
    "SBMLToolkit.checksupport_file(sbml_file)"
   ]
  },
  {
   "cell_type": "code",
   "execution_count": 34,
   "metadata": {},
   "outputs": [
    {
     "data": {
      "text/plain": [
       "#100 (generic function with 1 method)"
      ]
     },
     "execution_count": 34,
     "metadata": {},
     "output_type": "execute_result"
    }
   ],
   "source": [
    "# set the timespan\n",
    "tspan = (0., 1000. )\n",
    "\n",
    "# import the model from SBML\n",
    "model = readSBML(sbml_file, doc -> begin\n",
    "    set_level_and_version(3, 2)(doc)\n",
    "    convert_simplify_math(doc)\n",
    "end)\n",
    "\n",
    "# create the reaction system\n",
    "rs_sde = ReactionSystem(model, constraints=nothing)\n",
    "\n",
    "# create the SDE-problem form the reaction system\n",
    "SDEsys = convert(SDESystem, rs_sde)\n",
    "SDE_problem = SDEProblem(SDEsys, [], tspan, []);\n",
    "u0 = SDE_problem.u0 # store initial value\n",
    "\n",
    "# create the jump process from the reaction system\n",
    "prob = DiscreteProblem(rs_sde, u0, tspan, nothing)\n",
    "jump_problem = JumpProblem(rs_sde, prob, Direct())\n",
    "\n",
    "# create ODE-problem from the reaction system\n",
    "ODE_problem = ODEProblem(rs_sde, [], tspan, []);"
   ]
  },
  {
   "cell_type": "markdown",
   "metadata": {},
   "source": [
    "### Callbacks\n",
    "In order to inject the variant into the population at time 170, we create a callback, that can be passed to the solvers."
   ]
  },
  {
   "cell_type": "code",
   "execution_count": null,
   "metadata": {},
   "outputs": [],
   "source": [
    "const tstop = [170.] # time variant enters\n",
    "function condition(u,t,integrator)\n",
    "    t in tstop\n",
    "end\n",
    "function affect!(integrator)\n",
    "    integrator.u[10] = 1. # enters with one infected individual\n",
    "end\n",
    "save_positions = (true,true)\n",
    "\n",
    "cb = DiscreteCallback(condition, affect!, save_positions=save_positions)"
   ]
  },
  {
   "cell_type": "markdown",
   "metadata": {},
   "source": [
    "### SDE"
   ]
  },
  {
   "cell_type": "code",
   "execution_count": null,
   "metadata": {},
   "outputs": [],
   "source": [
    "SDE_solution = solve(SDE_problem, PosEM(), dt=1e-2, dense=true, force_dtmin=true, callback=cb, tstops=tstop);\n",
    "sde_plt = Plots.plot(SDE_solution, legend=false, size=(width_px/3, width_px/3))"
   ]
  },
  {
   "cell_type": "code",
   "execution_count": null,
   "metadata": {},
   "outputs": [],
   "source": [
    "sde_rec = Plots.plot(SDE_solution.t, SDE_solution[Symbol(\"Rec_wild(t)\")], label=\"Rec_wild(t)\", size=(width_px/3, width_px/3))\n",
    "Plots.plot!(sde_rec, SDE_solution.t, SDE_solution[Symbol(\"Rec_var(t)\")], label=\"Rec_var(t)\")\n",
    "Plots.plot!(sde_rec, SDE_solution.t, SDE_solution[Symbol(\"Rec_var_wild(t)\")], label=\"Rec_wild_var(t)\")\n",
    "plot!(sde_rec, legend=false, ylim=(0,300))\n",
    "xlabel!(sde_rec, \"t\")"
   ]
  },
  {
   "cell_type": "code",
   "execution_count": null,
   "metadata": {},
   "outputs": [],
   "source": [
    "savefig(sde_plt, \"./figures/eth_full_sde_solution.pdf\")\n",
    "savefig(sde_rec, \"./figures/eth_rec_sde_solution.pdf\")"
   ]
  },
  {
   "cell_type": "markdown",
   "metadata": {},
   "source": [
    "### Jump process"
   ]
  },
  {
   "cell_type": "code",
   "execution_count": null,
   "metadata": {},
   "outputs": [],
   "source": [
    "jump_sol = solve(jump_problem, SSAStepper(),  callback=cb, tstops=tstop);\n",
    "jump_plt = Plots.plot(jump_sol, legend=false, size=(width_px/3,width_px/3))"
   ]
  },
  {
   "cell_type": "code",
   "execution_count": null,
   "metadata": {},
   "outputs": [],
   "source": [
    "jump_rec = Plots.plot(jump_sol.t, jump_sol[Symbol(\"Rec_wild(t)\")], label=\"Rec_wild(t)\", size=(width_px/3, width_px/3))\n",
    "Plots.plot!(jump_rec, jump_sol.t, jump_sol[Symbol(\"Rec_var(t)\")], label=\"Rec_var(t)\")\n",
    "Plots.plot!(jump_rec, jump_sol.t, jump_sol[Symbol(\"Rec_var_wild(t)\")], label=\"Rec_wild_var(t)\")\n",
    "Plots.plot!(jump_rec, xlabel=\"t\", legend=:false, ylim=(0,300))"
   ]
  },
  {
   "cell_type": "code",
   "execution_count": null,
   "metadata": {},
   "outputs": [],
   "source": [
    "savefig(jump_plt, \"./figures/eth_full_jump_solution.pdf\")\n",
    "savefig(plt, \"./figures/eth_rec_jump_solution.pdf\")"
   ]
  },
  {
   "cell_type": "markdown",
   "metadata": {},
   "source": [
    "### ODE"
   ]
  },
  {
   "cell_type": "code",
   "execution_count": null,
   "metadata": {},
   "outputs": [],
   "source": [
    "ode_sol = solve(ODE_problem; dense=true, solve_kwargs...);\n",
    "ode_plt = Plots.plot(ode_sol, legend=false, size=(width_px/3,width_px/3))"
   ]
  },
  {
   "cell_type": "code",
   "execution_count": null,
   "metadata": {},
   "outputs": [],
   "source": [
    "ode_rec = Plots.plot(sol.t, sol[Symbol(\"Rec_wild(t)\")], label=\"Rec_wild(t)\", size=(width_px/3, width_px/3))\n",
    "Plots.plot!(ode_rec, sol.t, sol[Symbol(\"Rec_var(t)\")], label=\"Rec_var(t)\" )\n",
    "Plots.plot!(ode_rec, sol.t, sol[Symbol(\"Rec_var_wild(t)\")], label=\"Rec_wild_var(t)\")\n",
    "plot!(legend=false, ylim=(0,300))\n",
    "xlabel!(\"t\")"
   ]
  },
  {
   "cell_type": "code",
   "execution_count": null,
   "metadata": {},
   "outputs": [],
   "source": [
    "savefig(ode_plt, \"./figures/eth_full_ode_solution.pdf\")\n",
    "savefig(ode_rec, \"./figures/eth_rec_ode_solution.pdf\")"
   ]
  },
  {
   "cell_type": "markdown",
   "metadata": {},
   "source": [
    "## Observation process"
   ]
  },
  {
   "cell_type": "code",
   "execution_count": null,
   "metadata": {},
   "outputs": [],
   "source": [
    "# real observation function from petab-files\n",
    "nobs = 2\n",
    "\n",
    "function prev_comb(x, p, t)\n",
    "    nom = (x[3]+x[4]+x[6]+x[8]+x[9])\n",
    "    nsum = x[1]+x[2]+x[3]+x[4]+x[5]+x[6]+x[7]+x[8]+x[9]+x[10]\n",
    "    return nom/nsum\n",
    "end\n",
    "\n",
    "function infc_rel(x, p, t)\n",
    "    nom = x[3]+x[8]+x[9]\n",
    "    nsum = x[1]+x[2]+x[3]+x[4]+x[5]+x[6]+x[7]+x[8]+x[9]+x[10]\n",
    "    return nom/nsum\n",
    "end\n",
    "\n",
    "function fobs(x, p, t)\n",
    "\n",
    "        return SIndependent(\n",
    "            truncated(Normal(prev_comb(x, p, t), 0.027361836386980545; check_args=false), 0.0, nothing),\n",
    "            truncated(Normal(infc_rel(x, p, t), 0.048944430985639616; check_args=false), 0.0, nothing),\n",
    "            )\n",
    "end"
   ]
  },
  {
   "cell_type": "markdown",
   "metadata": {},
   "source": [
    "Load the synthetically generated data."
   ]
  },
  {
   "cell_type": "code",
   "execution_count": null,
   "metadata": {},
   "outputs": [],
   "source": [
    "# sparse measurements\n",
    "tobs = [262, 308, 304, 328, 343, 353, 242, 273, 304, 333, 363, 393]\n",
    "tobs = sort(tobs)\n",
    "tobs = unique(tobs);\n",
    "\n",
    "y_load = CSV.read(\"./data/real_model_SparseSynth.csv\", DataFrame)\n",
    "\n",
    "real_data = Vector{Vector{Union{Missing, Float64}}}()\n",
    "\n",
    "for i in range(1,length(tobs))\n",
    "    prev_meas = y_load[!, \"y1\"][Int64(i)]\n",
    "    infc_meas = y_load[!, \"y2\"][Int64(i)]\n",
    "    append!(real_data, [Vector{Union{Missing, Float64}}([prev_meas, infc_meas])])\n",
    "end\n",
    "\n",
    "real_data = collect(SVector{2, Union{Missing, Float64}}, real_data)"
   ]
  },
  {
   "cell_type": "markdown",
   "metadata": {},
   "source": [
    "### Additional solver specifications"
   ]
  },
  {
   "cell_type": "code",
   "execution_count": null,
   "metadata": {},
   "outputs": [],
   "source": [
    "# callbacks for injection of variant\n",
    "tevent = Float64(170.0)\n",
    "jumpsize = Float64(5000.0)\n",
    "\n",
    "make_event_cb(tevent, jumpsize) = DiscreteCallback((u,t,integrator) -> t == tevent, integrator -> integrator.u[10] += jumpsize)\n",
    "cb = make_event_cb(tevent, jumpsize)\n",
    "\n",
    "# solver settings\n",
    "solve_alg = PosEM()\n",
    "solve_kwargs = (dt=1e-2, callback=cb, tstops=[tevent])\n",
    "nothing"
   ]
  },
  {
   "cell_type": "markdown",
   "metadata": {},
   "source": [
    "## State Space model\n",
    "Next, we need to define the state space model and pass it to a Bootstrap Filter to define the likelihood function, that gets maximized."
   ]
  },
  {
   "cell_type": "code",
   "execution_count": null,
   "metadata": {},
   "outputs": [],
   "source": [
    "# creating the SDEStateSpaceModel\n",
    "ssm = SDEStateSpaceModel(SDE_problem, initial_state, fobs, nobs, tobs, solve_alg; solve_kwargs...);\n",
    "\n",
    "# creating the likelihood function\n",
    "\n",
    "function likelihood(nparticles)\n",
    "    llh_ssm = LogLikelihood_NoGradient(ssm, real_data; nparticles=nparticles)\n",
    "    llh = let llh_ssm = llh_ssm, ssm = ssm\n",
    "        p -> begin\n",
    "            tevent = Float64(p[4])\n",
    "            jumpsize = Float64(1.0)\n",
    "            ssm.solve_kwargs = (dt = 0.01, callback = make_event_cb(tevent, jumpsize), tstops = [tevent]) # NB must be of the same type (order included) as the template passed to SDEStateSpaceModel\n",
    "            all(≥(0) ,p[begin:end-3]) || return -Inf64\n",
    "            p_full = copy(ssm.sprob.p)\n",
    "            p_full[1:4] = p[1:4]\n",
    "            return llh_ssm(p_full)\n",
    "        end\n",
    "    end\n",
    "    return llh\n",
    "end"
   ]
  }
 ],
 "metadata": {
  "@webio": {
   "lastCommId": "ef28b9258c79479b8b806798309d88ba",
   "lastKernelId": "92777606-3ee1-4363-b0ca-51eb43a52c79"
  },
  "kernelspec": {
   "display_name": "Julia 1.8.2",
   "language": "julia",
   "name": "julia-1.8"
  },
  "language_info": {
   "file_extension": ".jl",
   "mimetype": "application/julia",
   "name": "julia",
   "version": "1.8.2"
  }
 },
 "nbformat": 4,
 "nbformat_minor": 4
}
